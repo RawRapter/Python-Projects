{
 "cells": [
  {
   "cell_type": "markdown",
   "metadata": {},
   "source": [
    "## This Project is a Plotter"
   ]
  },
  {
   "cell_type": "code",
   "execution_count": null,
   "metadata": {},
   "outputs": [],
   "source": [
    "import numpy as np\n",
    "import pandas as pd\n",
    "import chart_studio.plotly as pl\n",
    "import plotly.offline as po\n",
    "import cufflinks as cf"
   ]
  },
  {
   "cell_type": "code",
   "execution_count": null,
   "metadata": {},
   "outputs": [],
   "source": [
    "po.init_notebook_mode(connected=True)\n",
    "cf.go_offline()"
   ]
  },
  {
   "cell_type": "markdown",
   "metadata": {},
   "source": [
    "## Functions"
   ]
  },
  {
   "cell_type": "code",
   "execution_count": null,
   "metadata": {},
   "outputs": [],
   "source": [
    "#Function to create a data\n",
    "def createdata(data):\n",
    "    if(data == 1):\n",
    "        #taking random number 100*5\n",
    "        x = np.random.rand(100,5)\n",
    "        df1 = pd.DataFrame(x,columns=['A','B','C','D','E'])\n",
    "        \n",
    "    elif(data == 2):\n",
    "        #Intializing columns and rows\n",
    "        x = [0,0,0,0,0]\n",
    "        r1 = [0,0,0,0,0]\n",
    "        r2 = [0,0,0,0,0]\n",
    "        r3 = [0,0,0,0,0]\n",
    "        r4 = [0,0,0,0,0]\n",
    "        print(\"Enter the values to the column\")\n",
    "        for i in range(0,5):\n",
    "            x[i] = input()\n",
    "        print(\"Enter the value for first row\")\n",
    "        for i in range(0,5):\n",
    "            r1[i] = int(input())\n",
    "        print(\"Enter the value for first row\")\n",
    "        for i in range(0,5):\n",
    "            r2[i] = int(input())\n",
    "        print(\"Enter the value for first row\")\n",
    "        for i in range(0,5):\n",
    "            r3[i] = int(input())\n",
    "        print(\"Enter the value for first row\")\n",
    "        for i in range(0,5):\n",
    "            r4[i] = int(input())\n",
    "        df1 = pd.DataFrame([r1,r2,r3,r4],columns = x)\n",
    "        \n",
    "    elif(data == 3):\n",
    "        file = input(\"Enter the file name, Ex: tips.csv, agri.csv etc: \")\n",
    "        x = pd.read_csv(file)\n",
    "        df1 = pd.DataFrame(x)\n",
    "    \n",
    "    else:\n",
    "        print(\"DataFrame creation failed, please provide valid input!!\")\n",
    "    return df1"
   ]
  },
  {
   "cell_type": "code",
   "execution_count": null,
   "metadata": {},
   "outputs": [],
   "source": [
    "#Function for plotting when all columns are required on viz\n",
    "def plotter(plot):\n",
    "    if(plot == 1):\n",
    "        finalplot = df1.iplot(kind = 'scatter')\n",
    "    elif(plot == 2):\n",
    "        finalplot = df1.iplot(kind = 'scatter', mode = 'markers', symbol = 'x', colorscale = 'paired')\n",
    "    elif(plot == 3):\n",
    "        finalplot = df1.iplot(kind = 'bar')\n",
    "    elif(plot == 4):\n",
    "        finalplot = df1.iplot(kind = 'hist')\n",
    "    elif(plot == 5):\n",
    "        finalplot = df1.iplot(kind = 'box')\n",
    "    elif(plot == 6):\n",
    "        finalplot = df1.iplot(kind = 'surface')\n",
    "    else:\n",
    "        finalplot = print(\"Please choose valid choice\")\n",
    "    return finalplot"
   ]
  },
  {
   "cell_type": "code",
   "execution_count": null,
   "metadata": {},
   "outputs": [],
   "source": [
    "#Function when specific columns required on Viz\n",
    "def plotter2(plot):\n",
    "    col = int(input(\"Enter Number of columns you want to 1 ,2 or 3: \"))\n",
    "    if(col == 1):\n",
    "        coln = input(\"Enter the column you want to plot (Select column from dataframe)\")\n",
    "        if(plot == 1):\n",
    "            finalplot = df1[colm].iplot(kind = 'scatter')\n",
    "        elif(plot == 2):\n",
    "            finalplot = df1[colm].iplot(kind = 'scatter', mode = 'markers', symbol = 'x', colorscale = 'paired')\n",
    "        elif(plot == 3):\n",
    "            finalplot = df1[colm].iplot(kind = 'bar')\n",
    "        elif(plot == 4):\n",
    "            finalplot = df1[colm].iplot(kind = 'hist')\n",
    "        elif(plot == 5):\n",
    "            finalplot = df1[colm].iplot(kind = 'box')\n",
    "        elif(plot == 6 or plot == 7):\n",
    "            finalplot = print(\"Bubble plot or surface plot requires more than 1 column, Choose another one\")\n",
    "        else:\n",
    "            finalplot = print(\"Invalid Selection Try again\")\n",
    "            \n",
    "            \n",
    "    elif(col == 2):\n",
    "        print(\"Enter the columns you want to plot\")\n",
    "        x = int(input(\"First column: \"))\n",
    "        y = int(input(\"second column: \"))\n",
    "        if(plot == 1):\n",
    "            finalplot = df1[[x,y]].iplot(kind = 'scatter')\n",
    "        elif(plot == 2):\n",
    "            finalplot = df1[[x,y]].iplot(kind = 'scatter', mode = 'markers', symbol = 'x', colorscale = 'paired')\n",
    "        elif(plot == 3):\n",
    "            finalplot = df1[[x,y]].iplot(kind = 'bar')\n",
    "        elif(plot == 4):\n",
    "            finalplot = df1[[x,y]].iplot(kind = 'hist')\n",
    "        elif(plot == 5):\n",
    "            finalplot = df1[[x,y]].iplot(kind = 'box')\n",
    "        elif(plot == 6):\n",
    "            finalplot = df1[[x,y]].iplot(kind = 'surface')\n",
    "        elif(plot == 7):\n",
    "            size = input(\"Please Enter the size column for bubble plot\")\n",
    "            finalplot = df1.iplot(kind = 'bubble',x=x,y=y,size=size)\n",
    "        else:\n",
    "            finalplot = print(\"Invalid Selection Try again\")\n",
    "    elif(col == 3):\n",
    "        print(\"Enter the columns you want to plot\")\n",
    "        x = int(input(\"First column: \"))\n",
    "        y = int(input(\"second column: \"))\n",
    "        z = int(input(\"Third column: \"))\n",
    "        if(plot == 1):\n",
    "            finalplot = df1[[x,y,z]].iplot(kind = 'scatter')\n",
    "        elif(plot == 2):\n",
    "            finalplot = df1[[x,y,z]].iplot(kind = 'scatter', mode = 'markers', symbol = 'x', colorscale = 'paired')\n",
    "        elif(plot == 3):\n",
    "            finalplot = df1[[x,y,z]].iplot(kind = 'bar')\n",
    "        elif(plot == 4):\n",
    "            finalplot = df1[[x,y,z]].iplot(kind = 'hist')\n",
    "        elif(plot == 5):\n",
    "            finalplot = df1[[x,y,z]].iplot(kind = 'box')\n",
    "        elif(plot == 6):\n",
    "            finalplot = df1[[x,y,z]].iplot(kind = 'surface')\n",
    "        elif(plot == 7):\n",
    "            size = input(\"Please Enter the size column for bubble plot\")\n",
    "            finalplot = df1.iplot(kind = 'bubble',x=x,y=y,z=z,size=size)\n",
    "        else:\n",
    "            finalplot = print(\"Invalid Selection Try again\")\n",
    "    else:\n",
    "        finalplot = print(\"Invalid Selection Try Again\")\n",
    "    return finalplot"
   ]
  },
  {
   "cell_type": "code",
   "execution_count": null,
   "metadata": {},
   "outputs": [],
   "source": [
    "#Main function for plotting\n",
    "def main(cat):\n",
    "    if(cat == 1):\n",
    "        print(\"Select the type of plot you need to plot by giving input from 1 - 6\")\n",
    "        print(\"1. Line Plot\")\n",
    "        print(\"2. Scatter Plot\")\n",
    "        print(\"3. Bar Plot\")\n",
    "        print(\"4. Histogram\")\n",
    "        print(\"5. Box Plot\")\n",
    "        print(\"6. Surfaceplot\")\n",
    "        plot = int(input())\n",
    "        output = plotter(plot)\n",
    "    \n",
    "    elif(cat == 2):\n",
    "        print(\"Select the type of plot you need to plot by giving input from 1 - 6\")\n",
    "        print(\"1. Line Plot\")\n",
    "        print(\"2. Scatter Plot\")\n",
    "        print(\"3. Bar Plot\")\n",
    "        print(\"4. Histogram\")\n",
    "        print(\"5. Box Plot\")\n",
    "        print(\"6. Surfaceplot\")\n",
    "        print(\"7. Bubble Plot\")\n",
    "        plot = int(input())\n",
    "        output = plotter2(plot)\n",
    "    else:\n",
    "        print(\"Please enter valid value.\")"
   ]
  },
  {
   "cell_type": "markdown",
   "metadata": {},
   "source": [
    "## Interactive Part"
   ]
  },
  {
   "cell_type": "code",
   "execution_count": null,
   "metadata": {},
   "outputs": [],
   "source": [
    "print(\"Select the type of data you need to plot (by writing 1,2 or 3)\")\n",
    "print(\"1. Random data with 100 rows and 5 columns\")\n",
    "print(\"2. Customize dataframe with 5 columns and 4 rows\")\n",
    "print(\"3. Upload CSV/JSON/Txt File\")\n",
    "data = int(input())\n",
    "df1 = createdata(data)"
   ]
  },
  {
   "cell_type": "code",
   "execution_count": null,
   "metadata": {},
   "outputs": [],
   "source": [
    "print(\"Your DataFrame head is given below check the columns to plot using cufflinks\")\n",
    "df1.head()"
   ]
  },
  {
   "cell_type": "code",
   "execution_count": null,
   "metadata": {},
   "outputs": [],
   "source": [
    "print(\"What kind of plot do you need? the complete data plot or columns plot\")\n",
    "cat = input(\"Press 1 for plotting all the columns or press 2 for specifying columns to plot: \")\n",
    "cat = int(cat)"
   ]
  },
  {
   "cell_type": "code",
   "execution_count": null,
   "metadata": {},
   "outputs": [],
   "source": [
    "main(cat)"
   ]
  }
 ],
 "metadata": {
  "kernelspec": {
   "display_name": "Python 3",
   "language": "python",
   "name": "python3"
  },
  "language_info": {
   "codemirror_mode": {
    "name": "ipython",
    "version": 3
   },
   "file_extension": ".py",
   "mimetype": "text/x-python",
   "name": "python",
   "nbconvert_exporter": "python",
   "pygments_lexer": "ipython3",
   "version": "3.8.5"
  }
 },
 "nbformat": 4,
 "nbformat_minor": 4
}
